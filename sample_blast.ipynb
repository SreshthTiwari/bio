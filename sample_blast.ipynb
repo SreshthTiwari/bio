{
 "cells": [
  {
   "cell_type": "code",
   "execution_count": 1,
   "id": "7dac1029",
   "metadata": {},
   "outputs": [
    {
     "name": "stderr",
     "output_type": "stream",
     "text": [
      "'wget' is not recognized as an internal or external command,\n",
      "operable program or batch file.\n"
     ]
    }
   ],
   "source": [
    "!wget ftp://ftp.ncbi.nlm.nih.gov/genomes/all/GCA/000/001/405/GCA_000001405.29_GRCh38.p14/GCA_000001405.29_GRCh38.p14_genomic.fna.gz"
   ]
  },
  {
   "cell_type": "code",
   "execution_count": null,
   "id": "784eb285",
   "metadata": {},
   "outputs": [],
   "source": [
    "import gzip\n",
    "import shutil\n",
    "\n",
    "with gzip.open('GCA_000001405.29_GRCh38.p14_genomic.fna.gz', 'rb') as f_in:\n",
    "    with open('GCA_000001405.29_GRCh38.p14_genomic.fna', 'wb') as f_out:\n",
    "        shutil.copyfileobj(f_in, f_out)"
   ]
  },
  {
   "cell_type": "code",
   "execution_count": 2,
   "id": "313370db",
   "metadata": {},
   "outputs": [
    {
     "name": "stderr",
     "output_type": "stream",
     "text": [
      "'makeblastdb' is not recognized as an internal or external command,\n",
      "operable program or batch file.\n"
     ]
    }
   ],
   "source": [
    "!makeblastdb -in GCA_000001405.29_GRCh38.p14_genomic.fna -dbtype nucl -out human_genome_db"
   ]
  },
  {
   "cell_type": "code",
   "execution_count": null,
   "id": "a3ec03b0",
   "metadata": {},
   "outputs": [],
   "source": [
    "from Bio.Blast.Applications import NcbiblastnCommandline\n",
    "from Bio import SeqIO\n",
    "\n",
    "# Load sequences from the sample_2.fasta file\n",
    "sequences = list(SeqIO.parse(\"sample_2.fasta\", \"fasta\"))\n",
    "\n",
    "# Assume the first sequence is human and the rest are Toxoplasma gondii\n",
    "human_sequence = str(sequences[0].seq)\n",
    "toxoplasma_sequences = [seq for seq in sequences[1:]]\n",
    "\n",
    "# Save human sequence to a file to use as subject in BLAST\n",
    "with open(\"human_sequence.fasta\", \"w\") as human_file:\n",
    "    human_file.write(\">human_sequence\\n\")\n",
    "    human_file.write(human_sequence)\n",
    "\n",
    "# Perform BLAST search for each Toxoplasma gondii sequence against the human genome and save results to files\n",
    "for idx, seq_record in enumerate(toxoplasma_sequences):\n",
    "    print(f\"Performing BLAST search for sequence {idx+1}...\")\n",
    "    toxo_filename = f\"toxo_sequence_{idx+1}.fasta\"\n",
    "    with open(toxo_filename, \"w\") as toxo_file:\n",
    "        toxo_file.write(f\">{seq_record.id}\\n\")\n",
    "        toxo_file.write(str(seq_record.seq))\n",
    "    \n",
    "    # Run local BLAST search using the command line\n",
    "    output_filename = f\"blast_result_{idx+1}.xml\"\n",
    "    blastn_cline = NcbiblastnCommandline(query=toxo_filename, db=\"human_genome_db\", evalue=0.001, outfmt=5, out=output_filename)\n",
    "    stdout, stderr = blastn_cline()\n",
    "    print(f\"Results saved to {output_filename}\")\n",
    "\n",
    "print(\"BLAST searches completed.\")"
   ]
  },
  {
   "cell_type": "code",
   "execution_count": null,
   "id": "c1fc0179",
   "metadata": {},
   "outputs": [],
   "source": []
  }
 ],
 "metadata": {
  "kernelspec": {
   "display_name": "Python 3 (ipykernel)",
   "language": "python",
   "name": "python3"
  },
  "language_info": {
   "codemirror_mode": {
    "name": "ipython",
    "version": 3
   },
   "file_extension": ".py",
   "mimetype": "text/x-python",
   "name": "python",
   "nbconvert_exporter": "python",
   "pygments_lexer": "ipython3",
   "version": "3.11.7"
  }
 },
 "nbformat": 4,
 "nbformat_minor": 5
}
